{
  "nbformat": 4,
  "nbformat_minor": 0,
  "metadata": {
    "colab": {
      "provenance": [],
      "include_colab_link": true
    },
    "kernelspec": {
      "name": "python3",
      "display_name": "Python 3"
    },
    "language_info": {
      "name": "python"
    }
  },
  "cells": [
    {
      "cell_type": "markdown",
      "metadata": {
        "id": "view-in-github",
        "colab_type": "text"
      },
      "source": [
        "<a href=\"https://colab.research.google.com/github/SwapnaKasula/GenerativeAI/blob/master/Knowledge_Graph/KnowledgeGraph_WithNeo4j.ipynb\" target=\"_parent\"><img src=\"https://colab.research.google.com/assets/colab-badge.svg\" alt=\"Open In Colab\"/></a>"
      ]
    },
    {
      "cell_type": "markdown",
      "source": [
        "# Hands-On: Working with Neo4J\n",
        "\n",
        "In this hands-on session we will use a free Neo4j Sandbox database and we will explore a very basic of movies in order to understand better the property graph data model and the Cypher query language.  \n",
        "\n",
        "For a more comprehensive guide on Cypher consider the following resources:\n",
        "\n",
        "* [Neo4j Cheat Sheet](https://quickref.me/neo4j)\n",
        "* [Cypher Reference Card](https://neo4j.com/docs/cypher-cheat-sheet/5/auradb-enterprise/)"
      ],
      "metadata": {
        "id": "34xbbh5rGPWy"
      }
    },
    {
      "cell_type": "markdown",
      "source": [
        "## Create a Neo4J sandbox database instance\n",
        "\n",
        "To create an instance go to this [link](https://sandbox.neo4j.com/), log in, and click on \"New Project.\"  From here, select the Movies graph and \"Create\".\n",
        "\n",
        "NOTE: This instance will be read-only; we won't be able to add/edit data\n"
      ],
      "metadata": {
        "id": "hf2UqujIooPI"
      }
    },
    {
      "cell_type": "markdown",
      "source": [
        "## Connect to the database\n",
        "\n",
        "To connect to the instance we need to specify the Bolt URL, the username and the password. These are available under \"Connection Details\" tab."
      ],
      "metadata": {
        "id": "NDu8R8koo5uY"
      }
    },
    {
      "cell_type": "code",
      "source": [
        "bolt_url = \"bolt://98.80.182.68:7687\"\n",
        "username = \"neo4j\"\n",
        "pwd = \"amperages-soldiers-warranties\""
      ],
      "metadata": {
        "id": "MZAd4WCD0SE6"
      },
      "execution_count": null,
      "outputs": []
    },
    {
      "cell_type": "markdown",
      "source": [
        "Then we can connect to the database instance using the py2neo library."
      ],
      "metadata": {
        "id": "dodOZSHSDDQe"
      }
    },
    {
      "cell_type": "code",
      "source": [
        "! pip install py2neo"
      ],
      "metadata": {
        "id": "ChPTSrHstOM7",
        "colab": {
          "base_uri": "https://localhost:8080/"
        },
        "outputId": "479751ca-9566-4789-99f6-56a3d0354f3e"
      },
      "execution_count": null,
      "outputs": [
        {
          "output_type": "stream",
          "name": "stdout",
          "text": [
            "Collecting py2neo\n",
            "  Downloading py2neo-2021.2.4-py2.py3-none-any.whl.metadata (9.9 kB)\n",
            "Requirement already satisfied: certifi in /usr/local/lib/python3.11/dist-packages (from py2neo) (2024.12.14)\n",
            "Collecting interchange~=2021.0.4 (from py2neo)\n",
            "  Downloading interchange-2021.0.4-py2.py3-none-any.whl.metadata (1.9 kB)\n",
            "Collecting monotonic (from py2neo)\n",
            "  Downloading monotonic-1.6-py2.py3-none-any.whl.metadata (1.5 kB)\n",
            "Requirement already satisfied: packaging in /usr/local/lib/python3.11/dist-packages (from py2neo) (24.2)\n",
            "Collecting pansi>=2020.7.3 (from py2neo)\n",
            "  Downloading pansi-2024.11.0-py2.py3-none-any.whl.metadata (3.1 kB)\n",
            "Requirement already satisfied: pygments>=2.0.0 in /usr/local/lib/python3.11/dist-packages (from py2neo) (2.18.0)\n",
            "Requirement already satisfied: six>=1.15.0 in /usr/local/lib/python3.11/dist-packages (from py2neo) (1.17.0)\n",
            "Requirement already satisfied: urllib3 in /usr/local/lib/python3.11/dist-packages (from py2neo) (2.3.0)\n",
            "Requirement already satisfied: pytz in /usr/local/lib/python3.11/dist-packages (from interchange~=2021.0.4->py2neo) (2024.2)\n",
            "Requirement already satisfied: pillow in /usr/local/lib/python3.11/dist-packages (from pansi>=2020.7.3->py2neo) (11.1.0)\n",
            "Downloading py2neo-2021.2.4-py2.py3-none-any.whl (177 kB)\n",
            "\u001b[2K   \u001b[90m━━━━━━━━━━━━━━━━━━━━━━━━━━━━━━━━━━━━━━━━\u001b[0m \u001b[32m177.2/177.2 kB\u001b[0m \u001b[31m3.4 MB/s\u001b[0m eta \u001b[36m0:00:00\u001b[0m\n",
            "\u001b[?25hDownloading interchange-2021.0.4-py2.py3-none-any.whl (28 kB)\n",
            "Downloading pansi-2024.11.0-py2.py3-none-any.whl (26 kB)\n",
            "Downloading monotonic-1.6-py2.py3-none-any.whl (8.2 kB)\n",
            "Installing collected packages: monotonic, pansi, interchange, py2neo\n",
            "Successfully installed interchange-2021.0.4 monotonic-1.6 pansi-2024.11.0 py2neo-2021.2.4\n"
          ]
        }
      ]
    },
    {
      "cell_type": "code",
      "source": [
        "from py2neo import Graph\n",
        "conn = Graph(bolt_url, auth=(username, pwd))"
      ],
      "metadata": {
        "id": "hDqMPt7BpShC"
      },
      "execution_count": null,
      "outputs": []
    },
    {
      "cell_type": "markdown",
      "source": [
        "## Investigate the graph schema"
      ],
      "metadata": {
        "id": "_vMQLxwjzKdS"
      }
    },
    {
      "cell_type": "markdown",
      "source": [
        "### Get all labels and their node count"
      ],
      "metadata": {
        "id": "QRALtOqMvXfF"
      }
    },
    {
      "cell_type": "code",
      "source": [
        "query = \"\"\"MATCH (n) RETURN distinct labels(n), count(n)\"\"\"\n",
        "result = conn.query(query)\n",
        "result\n",
        "\n"
      ],
      "metadata": {
        "id": "IS-Nh2HApK2E",
        "colab": {
          "base_uri": "https://localhost:8080/",
          "height": 82
        },
        "outputId": "d988156f-d4df-44c8-b8f9-ca02e6b543bf"
      },
      "execution_count": null,
      "outputs": [
        {
          "output_type": "execute_result",
          "data": {
            "text/plain": [
              " labels(n)  | count(n) \n",
              "------------|----------\n",
              " ['Movie']  |       38 \n",
              " ['Person'] |      133 "
            ],
            "text/html": [
              "<table><tr><th>labels(n)</th><th>count(n)</th></tr><tr><td style=\"text-align:left\">[&#039;Movie&#039;]</td><td style=\"text-align:right\">38</td></tr><tr><td style=\"text-align:left\">[&#039;Person&#039;]</td><td style=\"text-align:right\">133</td></tr></table>"
            ]
          },
          "metadata": {},
          "execution_count": 4
        }
      ]
    },
    {
      "cell_type": "markdown",
      "source": [
        "### Get outgoing relations of \"Person\" nodes"
      ],
      "metadata": {
        "id": "CJnLuvDNwru9"
      }
    },
    {
      "cell_type": "code",
      "source": [
        "outgoing_relations_query = \"\"\"MATCH (:Person)-[r]->(n) RETURN distinct type(r), labels(n)\"\"\"\n",
        "result = conn.query(outgoing_relations_query).data()\n",
        "result"
      ],
      "metadata": {
        "id": "9z20zSsSv49n",
        "colab": {
          "base_uri": "https://localhost:8080/"
        },
        "outputId": "f14e85d9-d232-4f65-a107-462364747d8b"
      },
      "execution_count": null,
      "outputs": [
        {
          "output_type": "execute_result",
          "data": {
            "text/plain": [
              "[{'type(r)': 'ACTED_IN', 'labels(n)': ['Movie']},\n",
              " {'type(r)': 'DIRECTED', 'labels(n)': ['Movie']},\n",
              " {'type(r)': 'PRODUCED', 'labels(n)': ['Movie']},\n",
              " {'type(r)': 'WROTE', 'labels(n)': ['Movie']},\n",
              " {'type(r)': 'FOLLOWS', 'labels(n)': ['Person']},\n",
              " {'type(r)': 'REVIEWED', 'labels(n)': ['Movie']}]"
            ]
          },
          "metadata": {},
          "execution_count": 5
        }
      ]
    },
    {
      "cell_type": "markdown",
      "source": [
        "### *Question*: How would you identify the incoming relations of \"Movie\" nodes?"
      ],
      "metadata": {
        "id": "pkV0zrPcyGYC"
      }
    },
    {
      "cell_type": "code",
      "source": [
        "# insert your code here\n",
        "query = \"\"\"MATCH (:Movie)<-[r]-(n) RETURN distinct type(r), labels(n)\"\"\"\n",
        "result = conn.query(query).data()\n",
        "result"
      ],
      "metadata": {
        "id": "0qD6VToNx6bM",
        "colab": {
          "base_uri": "https://localhost:8080/"
        },
        "outputId": "fa177544-a5c9-45a3-a277-554cfa2b855f"
      },
      "execution_count": null,
      "outputs": [
        {
          "output_type": "execute_result",
          "data": {
            "text/plain": [
              "[{'type(r)': 'ACTED_IN', 'labels(n)': ['Person']},\n",
              " {'type(r)': 'PRODUCED', 'labels(n)': ['Person']},\n",
              " {'type(r)': 'DIRECTED', 'labels(n)': ['Person']},\n",
              " {'type(r)': 'WROTE', 'labels(n)': ['Person']},\n",
              " {'type(r)': 'REVIEWED', 'labels(n)': ['Person']}]"
            ]
          },
          "metadata": {},
          "execution_count": 6
        }
      ]
    },
    {
      "cell_type": "markdown",
      "source": [
        "### Get node properties per label"
      ],
      "metadata": {
        "id": "R54BJc3pygDx"
      }
    },
    {
      "cell_type": "code",
      "source": [
        "query = \"\"\"call db.schema.nodeTypeProperties()\"\"\"\n",
        "result = conn.query(query).data()\n",
        "result\n",
        "\n"
      ],
      "metadata": {
        "id": "RnWlQ82IyN8D",
        "colab": {
          "base_uri": "https://localhost:8080/"
        },
        "outputId": "2d4d2e83-2065-4aa7-eebd-0ec457572b30"
      },
      "execution_count": null,
      "outputs": [
        {
          "output_type": "execute_result",
          "data": {
            "text/plain": [
              "[{'nodeType': ':`Movie`',\n",
              "  'nodeLabels': ['Movie'],\n",
              "  'propertyName': 'title',\n",
              "  'propertyTypes': ['String'],\n",
              "  'mandatory': True},\n",
              " {'nodeType': ':`Movie`',\n",
              "  'nodeLabels': ['Movie'],\n",
              "  'propertyName': 'released',\n",
              "  'propertyTypes': ['Long'],\n",
              "  'mandatory': True},\n",
              " {'nodeType': ':`Movie`',\n",
              "  'nodeLabels': ['Movie'],\n",
              "  'propertyName': 'tagline',\n",
              "  'propertyTypes': ['String'],\n",
              "  'mandatory': False},\n",
              " {'nodeType': ':`Person`',\n",
              "  'nodeLabels': ['Person'],\n",
              "  'propertyName': 'name',\n",
              "  'propertyTypes': ['String'],\n",
              "  'mandatory': True},\n",
              " {'nodeType': ':`Person`',\n",
              "  'nodeLabels': ['Person'],\n",
              "  'propertyName': 'born',\n",
              "  'propertyTypes': ['Long'],\n",
              "  'mandatory': False}]"
            ]
          },
          "metadata": {},
          "execution_count": 7
        }
      ]
    },
    {
      "cell_type": "markdown",
      "source": [
        "## Querying the data"
      ],
      "metadata": {
        "id": "CKm0gQkV1QQi"
      }
    },
    {
      "cell_type": "markdown",
      "source": [
        "### Find all the movies Tom Hanks acted in"
      ],
      "metadata": {
        "id": "xNaksY_41zhQ"
      }
    },
    {
      "cell_type": "code",
      "source": [
        "query = \"\"\"MATCH (n:Person {name:\"Tom Hanks\"})-[r:ACTED_IN]->(m:Movie) RETURN m.title\"\"\"\n",
        "result = conn.query(query).data()\n",
        "result"
      ],
      "metadata": {
        "id": "2pxIAFiE1iNZ",
        "colab": {
          "base_uri": "https://localhost:8080/"
        },
        "outputId": "b82c868e-1cbe-494c-fc8a-91f8827ab0f0"
      },
      "execution_count": null,
      "outputs": [
        {
          "output_type": "execute_result",
          "data": {
            "text/plain": [
              "[{'m.title': 'Apollo 13'},\n",
              " {'m.title': \"You've Got Mail\"},\n",
              " {'m.title': 'A League of Their Own'},\n",
              " {'m.title': 'Joe Versus the Volcano'},\n",
              " {'m.title': 'That Thing You Do'},\n",
              " {'m.title': 'The Da Vinci Code'},\n",
              " {'m.title': 'Cloud Atlas'},\n",
              " {'m.title': 'Cast Away'},\n",
              " {'m.title': 'The Green Mile'},\n",
              " {'m.title': 'Sleepless in Seattle'},\n",
              " {'m.title': 'The Polar Express'},\n",
              " {'m.title': \"Charlie Wilson's War\"}]"
            ]
          },
          "metadata": {},
          "execution_count": 8
        }
      ]
    },
    {
      "cell_type": "markdown",
      "source": [
        "### Find all the movies Tom Hanks acted in AND directed"
      ],
      "metadata": {
        "id": "A9IFXvIU3JVO"
      }
    },
    {
      "cell_type": "code",
      "source": [
        "query = \"\"\"MATCH (n:Person {name:\"Tom Hanks\"})-[:ACTED_IN]->(m:Movie)<-[:DIRECTED]-(n) RETURN m.title\"\"\"\n",
        "result = conn.query(query).data()\n",
        "result"
      ],
      "metadata": {
        "colab": {
          "base_uri": "https://localhost:8080/"
        },
        "id": "bsN7Wuh73SW3",
        "outputId": "e4e13b2e-6cb7-4d71-8c15-e5fd585ef566"
      },
      "execution_count": null,
      "outputs": [
        {
          "output_type": "execute_result",
          "data": {
            "text/plain": [
              "[{'m.title': 'That Thing You Do'}]"
            ]
          },
          "metadata": {},
          "execution_count": 9
        }
      ]
    },
    {
      "cell_type": "markdown",
      "source": [
        "### Find the persons who have not directed a movie"
      ],
      "metadata": {
        "id": "-8aNDTmY30R2"
      }
    },
    {
      "cell_type": "code",
      "source": [
        "query = \"\"\"MATCH (n:Person) WHERE NOT (n)-[:DIRECTED]->() return n.name\"\"\"\n",
        "result = conn.query(query).data()\n",
        "result"
      ],
      "metadata": {
        "id": "X4bVee1536Lu",
        "colab": {
          "base_uri": "https://localhost:8080/"
        },
        "outputId": "67206254-2525-4ae2-a277-94d7fe867d7a"
      },
      "execution_count": null,
      "outputs": [
        {
          "output_type": "execute_result",
          "data": {
            "text/plain": [
              "[{'n.name': 'Keanu Reeves'},\n",
              " {'n.name': 'Carrie-Anne Moss'},\n",
              " {'n.name': 'Laurence Fishburne'},\n",
              " {'n.name': 'Hugo Weaving'},\n",
              " {'n.name': 'Joel Silver'},\n",
              " {'n.name': 'Emil Eifrem'},\n",
              " {'n.name': 'Charlize Theron'},\n",
              " {'n.name': 'Al Pacino'},\n",
              " {'n.name': 'Tom Cruise'},\n",
              " {'n.name': 'Jack Nicholson'},\n",
              " {'n.name': 'Demi Moore'},\n",
              " {'n.name': 'Kevin Bacon'},\n",
              " {'n.name': 'Kiefer Sutherland'},\n",
              " {'n.name': 'Noah Wyle'},\n",
              " {'n.name': 'Cuba Gooding Jr.'},\n",
              " {'n.name': 'Kevin Pollak'},\n",
              " {'n.name': 'J.T. Walsh'},\n",
              " {'n.name': 'Christopher Guest'},\n",
              " {'n.name': 'Aaron Sorkin'},\n",
              " {'n.name': 'Kelly McGillis'},\n",
              " {'n.name': 'Val Kilmer'},\n",
              " {'n.name': 'Anthony Edwards'},\n",
              " {'n.name': 'Tom Skerritt'},\n",
              " {'n.name': 'Meg Ryan'},\n",
              " {'n.name': 'Jim Cash'},\n",
              " {'n.name': 'Renee Zellweger'},\n",
              " {'n.name': 'Kelly Preston'},\n",
              " {'n.name': \"Jerry O'Connell\"},\n",
              " {'n.name': 'Jay Mohr'},\n",
              " {'n.name': 'Bonnie Hunt'},\n",
              " {'n.name': 'Regina King'},\n",
              " {'n.name': 'Jonathan Lipnicki'},\n",
              " {'n.name': 'River Phoenix'},\n",
              " {'n.name': 'Corey Feldman'},\n",
              " {'n.name': 'Wil Wheaton'},\n",
              " {'n.name': 'John Cusack'},\n",
              " {'n.name': 'Marshall Bell'},\n",
              " {'n.name': 'Helen Hunt'},\n",
              " {'n.name': 'Greg Kinnear'},\n",
              " {'n.name': 'Annabella Sciorra'},\n",
              " {'n.name': 'Max von Sydow'},\n",
              " {'n.name': 'Robin Williams'},\n",
              " {'n.name': 'Ethan Hawke'},\n",
              " {'n.name': 'Rick Yune'},\n",
              " {'n.name': 'James Cromwell'},\n",
              " {'n.name': 'Parker Posey'},\n",
              " {'n.name': 'Dave Chappelle'},\n",
              " {'n.name': 'Steve Zahn'},\n",
              " {'n.name': 'Rita Wilson'},\n",
              " {'n.name': 'Bill Pullman'},\n",
              " {'n.name': 'Victor Garber'},\n",
              " {'n.name': \"Rosie O'Donnell\"},\n",
              " {'n.name': 'Nathan Lane'},\n",
              " {'n.name': 'Billy Crystal'},\n",
              " {'n.name': 'Carrie Fisher'},\n",
              " {'n.name': 'Bruno Kirby'},\n",
              " {'n.name': 'Liv Tyler'},\n",
              " {'n.name': 'Brooke Langton'},\n",
              " {'n.name': 'Gene Hackman'},\n",
              " {'n.name': 'Orlando Jones'},\n",
              " {'n.name': 'Christian Bale'},\n",
              " {'n.name': 'Zach Grenier'},\n",
              " {'n.name': 'Richard Harris'},\n",
              " {'n.name': 'Takeshi Kitano'},\n",
              " {'n.name': 'Dina Meyer'},\n",
              " {'n.name': 'Ice-T'},\n",
              " {'n.name': 'Halle Berry'},\n",
              " {'n.name': 'Jim Broadbent'},\n",
              " {'n.name': 'David Mitchell'},\n",
              " {'n.name': 'Stefan Arndt'},\n",
              " {'n.name': 'Ian McKellen'},\n",
              " {'n.name': 'Audrey Tautou'},\n",
              " {'n.name': 'Paul Bettany'},\n",
              " {'n.name': 'Natalie Portman'},\n",
              " {'n.name': 'Stephen Rea'},\n",
              " {'n.name': 'John Hurt'},\n",
              " {'n.name': 'Ben Miles'},\n",
              " {'n.name': 'Emile Hirsch'},\n",
              " {'n.name': 'John Goodman'},\n",
              " {'n.name': 'Susan Sarandon'},\n",
              " {'n.name': 'Matthew Fox'},\n",
              " {'n.name': 'Christina Ricci'},\n",
              " {'n.name': 'Rain'},\n",
              " {'n.name': 'Naomie Harris'},\n",
              " {'n.name': 'Michael Clarke Duncan'},\n",
              " {'n.name': 'David Morse'},\n",
              " {'n.name': 'Sam Rockwell'},\n",
              " {'n.name': 'Gary Sinise'},\n",
              " {'n.name': 'Patricia Clarkson'},\n",
              " {'n.name': 'Frank Langella'},\n",
              " {'n.name': 'Michael Sheen'},\n",
              " {'n.name': 'Oliver Platt'},\n",
              " {'n.name': 'John C. Reilly'},\n",
              " {'n.name': 'Ed Harris'},\n",
              " {'n.name': 'Bill Paxton'},\n",
              " {'n.name': 'Philip Seymour Hoffman'},\n",
              " {'n.name': 'Diane Keaton'},\n",
              " {'n.name': 'Julia Roberts'},\n",
              " {'n.name': 'Madonna'},\n",
              " {'n.name': 'Geena Davis'},\n",
              " {'n.name': 'Lori Petty'},\n",
              " {'n.name': 'Paul Blythe'},\n",
              " {'n.name': 'Angela Scope'},\n",
              " {'n.name': 'Jessica Thompson'},\n",
              " {'n.name': 'James Thompson'}]"
            ]
          },
          "metadata": {},
          "execution_count": 10
        }
      ]
    },
    {
      "cell_type": "markdown",
      "source": [
        "### Question: How would you find the movies that have been reviewed?"
      ],
      "metadata": {
        "id": "ye_dp7rC7hYb"
      }
    },
    {
      "cell_type": "code",
      "source": [
        "# insert your code here\n",
        "query = \"\"\"MATCH (n:Movie) WHERE ()-[:REVIEWED]->(n) return n.title\"\"\"\n",
        "result = conn.query(query).data()\n",
        "result"
      ],
      "metadata": {
        "id": "ctsRu_Su7qYb",
        "colab": {
          "base_uri": "https://localhost:8080/"
        },
        "outputId": "cd63f9cf-65f9-43d8-d09d-665b7b05828e"
      },
      "execution_count": null,
      "outputs": [
        {
          "output_type": "execute_result",
          "data": {
            "text/plain": [
              "[{'n.title': 'Jerry Maguire'},\n",
              " {'n.title': 'The Replacements'},\n",
              " {'n.title': 'The Birdcage'},\n",
              " {'n.title': 'Unforgiven'},\n",
              " {'n.title': 'Cloud Atlas'},\n",
              " {'n.title': 'The Da Vinci Code'}]"
            ]
          },
          "metadata": {},
          "execution_count": 11
        }
      ]
    },
    {
      "cell_type": "code",
      "source": [],
      "metadata": {
        "id": "u3KuXPlpnc8v"
      },
      "execution_count": null,
      "outputs": []
    }
  ]
}
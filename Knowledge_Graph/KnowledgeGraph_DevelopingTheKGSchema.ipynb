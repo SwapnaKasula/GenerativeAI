{
  "nbformat": 4,
  "nbformat_minor": 0,
  "metadata": {
    "colab": {
      "provenance": [],
      "collapsed_sections": [
        "3oiOSjkXMnoy",
        "Pu9_R3LgOFvi"
      ],
      "include_colab_link": true
    },
    "kernelspec": {
      "name": "python3",
      "display_name": "Python 3"
    },
    "language_info": {
      "name": "python"
    }
  },
  "cells": [
    {
      "cell_type": "markdown",
      "metadata": {
        "id": "view-in-github",
        "colab_type": "text"
      },
      "source": [
        "<a href=\"https://colab.research.google.com/github/SwapnaKasula/GenerativeAI/blob/master/Knowledge_Graph/KnowledgeGraph_DevelopingTheKGSchema.ipynb\" target=\"_parent\"><img src=\"https://colab.research.google.com/assets/colab-badge.svg\" alt=\"Open In Colab\"/></a>"
      ]
    },
    {
      "cell_type": "markdown",
      "source": [
        "# Hands-On: Knowledge Graph Schema Design\n"
      ],
      "metadata": {
        "id": "oMibt6faGDOT"
      }
    },
    {
      "cell_type": "markdown",
      "source": [
        "## Introduction\n",
        "\n",
        "In this session we will be expanding the Movie graph schema with new elements, based on a set of competency questions"
      ],
      "metadata": {
        "id": "XwGpOkwlGW3a"
      }
    },
    {
      "cell_type": "markdown",
      "source": [
        "## Competency questions\n"
      ],
      "metadata": {
        "id": "y11lpoX1Gby8"
      }
    },
    {
      "cell_type": "markdown",
      "source": [
        "* Q1: Which movies are comedies?\n",
        "* Q2: Are there any science fiction movies that are also horror movies?"
      ],
      "metadata": {
        "id": "9HD1Xbo-T5TT"
      }
    },
    {
      "cell_type": "markdown",
      "source": [
        "## Question 1: What information do we need to add to the schema?\n"
      ],
      "metadata": {
        "id": "ZlR7ozy3CrX9"
      }
    },
    {
      "cell_type": "markdown",
      "source": [
        "Answer:\n",
        "\n",
        "The competency questions introduce 3 new terms that characterize the movies' genre: \"comedies\",\"science fiction\" and \"horror\". Thus, we need the KG schema to allow the representation of movie genres"
      ],
      "metadata": {
        "id": "yoNjZmE3UBHL"
      }
    },
    {
      "cell_type": "markdown",
      "source": [
        "## Question 2: What KG elements can we define to model this information?\n",
        "\n",
        "Hint 1: The elements we have at our disposal are Classes, Individuals, Relations and Attributes. Try not to think Neo4j-specific elements yet.\n",
        "\n",
        "Hint 2: There might be more than one way to model this information\n",
        "\n"
      ],
      "metadata": {
        "id": "3oiOSjkXMnoy"
      }
    },
    {
      "cell_type": "markdown",
      "source": [
        "Answer:\n",
        "\n",
        "We have 3 main options to model the genre information:\n",
        "\n",
        "* Option 1: Consider \"Comedy\", \"Science Fiction\" and \"Horror\" as string values of an attribute \"genre\" of movies.\n",
        "\n",
        "* Option 2: Model \"Comedy\", \"Science Fiction\" and \"Horror\" as subclasses of the class \"Movie, and make each movie an instance of its corresponding subclasses.\n",
        "\n",
        "* Option 3: Model \"Comedy\", \"Science Fiction\" and \"Horror\" as entities of the class \"Genre\" and define a relation \"HAS_GENRE\" that links movie entities with genre entities.\n",
        "\n",
        "Which one to choose?\n",
        "\n",
        "* With option 1 we limit our flexibility to define further knowledge about genres (e.g. what characteristics they have, how are they related to each other).\n",
        "\n",
        "* Option 2 can be risky if we are not careful. By considering \"Comedy\" as a subclass of \"Movie\" we imply that every entity that is an instance of \"Comedy\" is also an instance of \"Movie\". That is only correct if instead of \"Comedy\" we call the subclass \"ComedyMovie\". But then that limits the use of genres only to movies. Moreover, with option 2, the knowledge about genres becomes implicit. If we also want to support a question like \"What are the all movie genres\" we cannot do it, unless all movie subclasses are only genres.\n",
        "\n",
        "* Option 3 is the cleanest and most flexible option here."
      ],
      "metadata": {
        "id": "bG6djT_MUMVm"
      }
    },
    {
      "cell_type": "markdown",
      "source": [
        "## Question 3: What information do we need to specify for each element, based on question 2?\n",
        "\n",
        "\n",
        "\n"
      ],
      "metadata": {
        "id": "Pu9_R3LgOFvi"
      }
    },
    {
      "cell_type": "markdown",
      "source": [
        "Answer:\n",
        "\n",
        "Assuming we have selected option 3 we need to define the semantics of the class \"Genre\" and the relation \"HAS_GENRE\". For that we need to answer 3 questions:\n",
        "\n",
        "* What characteristics and criteria does an entity need to satisfy in order to be a \"genre\"? E.g. is \"anime\" a genre or an art form?\n",
        "\n",
        "* What characteristics and criteria make any two genres different? E.g. Is \"thriller\" the same as \"horror\"?\n",
        "\n",
        "* What characteristics and criteria does a movie need to satisfy in order to belong to a particular genre? E.g., Should we consider a movie that contains jokes but does not make us laugh a comedy?"
      ],
      "metadata": {
        "id": "0LFZYz_RUZwN"
      }
    },
    {
      "cell_type": "markdown",
      "source": [
        "## Question 4: How can we represent the new elements in Neo4j?"
      ],
      "metadata": {
        "id": "NUxtz3wVh7ZC"
      }
    },
    {
      "cell_type": "markdown",
      "source": [
        "### Let's represent the new elements"
      ],
      "metadata": {
        "id": "sqpqEk0klbIi"
      }
    },
    {
      "cell_type": "code",
      "source": [
        "# Represent \"Genre\" class as label:\n",
        "\n",
        "create_comedy_genre_entity_query = \"\"\"CREATE (g:Genre {name:\"Comedy\"});\"\"\"\n",
        "\n",
        "\n",
        "# Link movies to their genres via the relation \"HAS_GENRE\"\n",
        "\n",
        "link_movie_to_genre_query = \"\"\"MATCH (m:Movie {title:\"The Birdcage\"}), (g:Genre {name:\"Comedy\"}) CREATE (m)-[:HAS_GENRE]->(g);\"\"\"\n"
      ],
      "metadata": {
        "id": "JCOjEyY7hgyV"
      },
      "execution_count": 1,
      "outputs": []
    },
    {
      "cell_type": "markdown",
      "source": [
        "### Question 4.1: Is there an alternative representation?\n",
        "\n"
      ],
      "metadata": {
        "id": "nlrTln7fTxs5"
      }
    },
    {
      "cell_type": "markdown",
      "source": [
        "Answer: Yes, representing the \"Genre\" class as a node instead of a label"
      ],
      "metadata": {
        "id": "RyjwlubKlvTw"
      }
    },
    {
      "cell_type": "code",
      "source": [
        "# Represent \"Genre\" class as a node:\n",
        "\n",
        "create_genre_node_query = \"\"\"CREATE (g:Class {name:\"Genre\"});\"\"\"\n",
        "\n",
        "create_comedy_node_query = \"\"\"CREATE (c:Entity {name:\"Comedy\"});\"\"\"\n",
        "\n",
        "make_comedy_instance_of_genre_query = \"\"\"MATCH (c:Entity {name:\"Comedy\"}), (g:Class {name:\"Genre\"}) CREATE (c-[:INSTANCE_OF]->(g);\"\"\"\n",
        "\n",
        "# Link movies to their genres via the relation \"HAS_GENRE\"\n",
        "\n",
        "link_movie_to_genre_query = \"\"\"MATCH (m:Movie {title:\"The Birdcage\"}), (g:Entity {name:\"Comedy\"}) CREATE (m)-[:HAS_GENRE]->(g);\"\"\"\n",
        "\n",
        "\n",
        "\n"
      ],
      "metadata": {
        "id": "vVKvBbQjmMsa"
      },
      "execution_count": null,
      "outputs": []
    }
  ]
}
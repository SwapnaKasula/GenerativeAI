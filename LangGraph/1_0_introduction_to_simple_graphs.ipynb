{
  "cells": [
    {
      "cell_type": "markdown",
      "metadata": {
        "id": "view-in-github",
        "colab_type": "text"
      },
      "source": [
        "<a href=\"https://colab.research.google.com/github/SwapnaKasula/GenerativeAI/blob/master/LangGraph/1_0_introduction_to_simple_graphs.ipynb\" target=\"_parent\"><img src=\"https://colab.research.google.com/assets/colab-badge.svg\" alt=\"Open In Colab\"/></a>"
      ]
    },
    {
      "cell_type": "markdown",
      "metadata": {
        "id": "E4fVK3PhKMms"
      },
      "source": [
        "# Practical Introduction to LangGraph"
      ]
    },
    {
      "cell_type": "markdown",
      "metadata": {
        "id": "XfduE1xGKMms"
      },
      "source": [
        "# States\n",
        "\n",
        "Data structure that get's updated when we execute a graph.\n",
        "\n",
        "# Nodes\n",
        "\n",
        "Functions where we perform updates to states by adding or transforming the keys\n",
        "of that state.\n",
        "\n",
        "# Edges\n",
        "\n",
        "Connect the nodes together (they can be direct a->b or conditional a->b or a->c).\n",
        "\n",
        "# Graph (build & invoke)\n",
        "\n",
        "The [DAG cycle](https://en.wikipedia.org/wiki/Directed_acyclic_graph) that combines the entire thing."
      ]
    },
    {
      "cell_type": "code",
      "execution_count": 1,
      "metadata": {
        "id": "nlFB8C7kKMmt"
      },
      "outputs": [],
      "source": [
        "%%capture --no-stderr\n",
        "%pip install --quiet -U langgraph"
      ]
    },
    {
      "cell_type": "code",
      "execution_count": 10,
      "metadata": {
        "colab": {
          "base_uri": "https://localhost:8080/"
        },
        "id": "d-QyLJXBKMmt",
        "outputId": "4abd4368-5457-42b7-8326-9b0c692b9a67"
      },
      "outputs": [
        {
          "name": "stdout",
          "output_type": "stream",
          "text": [
            "OPENAI_API_KEY: ··········\n"
          ]
        }
      ],
      "source": [
        "import os, getpass\n",
        "\n",
        "def _set_env(var: str):\n",
        "    if not os.environ.get(var):\n",
        "        os.environ[var] = getpass.getpass(f\"{var}: \")\n",
        "\n",
        "_set_env(\"OPENAI_API_KEY\")"
      ]
    },
    {
      "cell_type": "markdown",
      "metadata": {
        "id": "69pyvXDnKMmt"
      },
      "source": [
        "# State\n",
        "\n",
        "State as a simple data structure that we update as we execute the graph."
      ]
    },
    {
      "cell_type": "code",
      "execution_count": 18,
      "metadata": {
        "id": "c5T1PAE_KMmt"
      },
      "outputs": [],
      "source": [
        "from typing_extensions import TypedDict\n",
        "\n",
        "class State(TypedDict):\n",
        "    state_before_node1: str\n",
        "    state_after_node1: str"
      ]
    },
    {
      "cell_type": "markdown",
      "metadata": {
        "id": "aDoztpVhKMmu"
      },
      "source": [
        "Now, we define a node where the computation of our graph will happen."
      ]
    },
    {
      "cell_type": "code",
      "execution_count": 19,
      "metadata": {
        "id": "FZfG8KQnKMmu"
      },
      "outputs": [],
      "source": [
        "from typing import Literal\n",
        "import random\n",
        "\n",
        "def node1(state):\n",
        "    print(\"Passing by node 1\")\n",
        "    state[\"state_after_node1\"] = \"Passed by node1\"\n",
        "    return state"
      ]
    },
    {
      "cell_type": "markdown",
      "metadata": {
        "id": "-037H72OKMmu"
      },
      "source": [
        "Finally, we put everything together including the edges that will connect the entry point of our graph to the end."
      ]
    },
    {
      "cell_type": "code",
      "execution_count": 20,
      "metadata": {
        "id": "v4OBQvmnKMmu"
      },
      "outputs": [],
      "source": [
        "from langgraph.graph import StateGraph, START, END\n",
        "\n",
        "builder = StateGraph(State)\n",
        "\n",
        "builder.add_node(\"node1\", node1)\n",
        "\n",
        "builder.add_edge(START, \"node1\")\n",
        "\n",
        "builder.add_edge(\"node1\", END)\n",
        "\n",
        "graph = builder.compile()"
      ]
    },
    {
      "cell_type": "markdown",
      "metadata": {
        "id": "oxqEfzLcKMmv"
      },
      "source": [
        "We can now visualize our graph."
      ]
    },
    {
      "cell_type": "code",
      "execution_count": 21,
      "metadata": {
        "colab": {
          "base_uri": "https://localhost:8080/",
          "height": 251
        },
        "id": "1G6EvKfAKMmv",
        "outputId": "a34a0cc0-87ef-4b67-da26-587f66ca1cb2"
      },
      "outputs": [
        {
          "output_type": "display_data",
          "data": {
            "image/png": "[encoded data removed]",
            "text/plain": [
              "<IPython.core.display.Image object>"
            ]
          },
          "metadata": {}
        }
      ],
      "source": [
        "from IPython.display import Image, display\n",
        "\n",
        "display(Image(graph.get_graph().draw_mermaid_png()))"
      ]
    },
    {
      "cell_type": "code",
      "execution_count": 23,
      "metadata": {
        "colab": {
          "base_uri": "https://localhost:8080/"
        },
        "id": "6jMYCw-sKMmv",
        "outputId": "b4707371-97c3-4616-ea07-47810b27acd3"
      },
      "outputs": [
        {
          "output_type": "stream",
          "name": "stdout",
          "text": [
            "Passing by node 1\n"
          ]
        },
        {
          "output_type": "execute_result",
          "data": {
            "text/plain": [
              "{'state_before_node1': 'start_node1', 'state_after_node1': 'Passed by node1'}"
            ]
          },
          "metadata": {},
          "execution_count": 23
        }
      ],
      "source": [
        "graph.invoke({\"state_before_node1\": \"start_node1\"})"
      ]
    },
    {
      "cell_type": "code",
      "source": [],
      "metadata": {
        "id": "C0pclKbaMVtA"
      },
      "execution_count": 23,
      "outputs": []
    },
    {
      "cell_type": "markdown",
      "metadata": {
        "id": "ZQOqUQ3jKMmv"
      },
      "source": [
        "# Routing\n",
        "\n",
        "<img src=\"./2025-02-10-12-16-57.png\" width=50%>"
      ]
    },
    {
      "cell_type": "markdown",
      "metadata": {
        "id": "aWmBqpulKMmw"
      },
      "source": [
        "We can also create a graph that routes between options easily using a node with some conditional logic, and then a special type of edge\n",
        "`.add_conditional_edges()` that will integrate that conditional logic into the graph."
      ]
    },
    {
      "cell_type": "code",
      "execution_count": 11,
      "metadata": {
        "id": "KppvMsc5KMmw"
      },
      "outputs": [],
      "source": [
        "from typing import Literal\n",
        "import random\n",
        "\n",
        "def node1(state):\n",
        "    print(\"Passing by node 1\")\n",
        "    return state\n",
        "\n",
        "def node2(state):\n",
        "    print(\"Passing by node 2\")\n",
        "    state[\"graph_state\"] = \"node 2\"\n",
        "    return state\n",
        "\n",
        "def node3(state):\n",
        "    print(\"Passing by node 3\")\n",
        "    state[\"graph_state\"] = \"node 3\"\n",
        "    return state\n",
        "\n",
        "# Implementing some conditional logic\n",
        "def decision_node(state) -> Literal[\"node2\", \"node3\"]:\n",
        "\n",
        "    user_input = state[\"graph_state\"]\n",
        "    print(user_input)\n",
        "\n",
        "    if user_input==\"2\":\n",
        "        return \"node2\"\n",
        "    else:\n",
        "        return \"node3\""
      ]
    },
    {
      "cell_type": "code",
      "execution_count": 12,
      "metadata": {
        "id": "pzzLj_dHKMmw"
      },
      "outputs": [],
      "source": [
        "class State(TypedDict):\n",
        "    graph_state: str\n",
        "\n",
        "\n",
        "builder = StateGraph(State)\n",
        "\n",
        "builder.add_node(\"node1\", node1)\n",
        "builder.add_node(\"node2\", node2)\n",
        "builder.add_node(\"node3\", node3)\n",
        "\n",
        "builder.add_edge(START, \"node1\")\n",
        "builder.add_conditional_edges(\"node1\",decision_node)\n",
        "builder.add_edge(\"node2\", END)\n",
        "builder.add_edge(\"node3\", END)\n",
        "\n",
        "graph = builder.compile()"
      ]
    },
    {
      "cell_type": "code",
      "execution_count": 13,
      "metadata": {
        "colab": {
          "base_uri": "https://localhost:8080/",
          "height": 350
        },
        "id": "H5uST_b-KMmw",
        "outputId": "f3d7e020-221a-452f-9016-e3e60abd8042"
      },
      "outputs": [
        {
          "output_type": "display_data",
          "data": {
            "image/png": "[encoded data removed]",
            "text/plain": [
              "<IPython.core.display.Image object>"
            ]
          },
          "metadata": {}
        }
      ],
      "source": [
        "from IPython.display import Image, display\n",
        "\n",
        "display(Image(graph.get_graph().draw_mermaid_png()))"
      ]
    },
    {
      "cell_type": "code",
      "execution_count": 14,
      "metadata": {
        "colab": {
          "base_uri": "https://localhost:8080/"
        },
        "id": "om1KxOApKMmx",
        "outputId": "0ddd4a1b-7ced-411a-a523-7b8c2d936db3"
      },
      "outputs": [
        {
          "output_type": "stream",
          "name": "stdout",
          "text": [
            "Passing by node 1\n",
            "2\n",
            "Passing by node 2\n"
          ]
        },
        {
          "output_type": "execute_result",
          "data": {
            "text/plain": [
              "{'graph_state': 'node 2'}"
            ]
          },
          "metadata": {},
          "execution_count": 14
        }
      ],
      "source": [
        "graph.invoke({\"graph_state\": \"2\"})"
      ]
    },
    {
      "cell_type": "code",
      "execution_count": 15,
      "metadata": {
        "colab": {
          "base_uri": "https://localhost:8080/"
        },
        "id": "velNUb08KMmx",
        "outputId": "61e25c6b-f590-44e9-fd82-fadeda47e24d"
      },
      "outputs": [
        {
          "output_type": "stream",
          "name": "stdout",
          "text": [
            "Passing by node 1\n",
            "3\n",
            "Passing by node 3\n"
          ]
        },
        {
          "output_type": "execute_result",
          "data": {
            "text/plain": [
              "{'graph_state': 'node 3'}"
            ]
          },
          "metadata": {},
          "execution_count": 15
        }
      ],
      "source": [
        "graph.invoke({\"graph_state\": \"3\"})"
      ]
    }
  ],
  "metadata": {
    "kernelspec": {
      "display_name": "oreilly-langgraph",
      "language": "python",
      "name": "oreilly-langgraph"
    },
    "language_info": {
      "codemirror_mode": {
        "name": "ipython",
        "version": 3
      },
      "file_extension": ".py",
      "mimetype": "text/x-python",
      "name": "python",
      "nbconvert_exporter": "python",
      "pygments_lexer": "ipython3",
      "version": "3.11.10"
    },
    "colab": {
      "provenance": [],
      "include_colab_link": true
    }
  },
  "nbformat": 4,
  "nbformat_minor": 0
}